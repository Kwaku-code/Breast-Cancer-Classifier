{
 "cells": [
  {
   "cell_type": "code",
   "execution_count": null,
   "metadata": {},
   "outputs": [],
   "source": [
    "import codecademylib3_seaborn\n",
    "\n",
    "from sklearn.datasets import load_breast_cancer\n",
    "from sklearn.model_selection import train_test_split\n",
    "from sklearn.neighbors import KNeighborsClassifier\n",
    "\n",
    "import matplotlib.pyplot as plt\n",
    "\n",
    "breast_cancer_data = load_breast_cancer()\n",
    "\n",
    "print(breast_cancer_data.data[0])\n",
    "print(breast_cancer_data.feature_names)\n",
    "\n",
    "print(breast_cancer_data.target)\n",
    "print(breast_cancer_data.target_names)\n",
    "\n",
    "training_data, validation_data, training_labels, validation_labels = train_test_split(breast_cancer_data.data, breast_cancer_data.target, test_size = 0.2, random_state = 100)\n",
    "\n",
    "print(training_data)\n",
    "print(training_labels)\n",
    "\n",
    "accuracies = []\n",
    "for k in range(1, 101):\n",
    "  classifier = KNeighborsClassifier(n_neighbors = k)\n",
    "  classifier.fit(training_data, training_labels)\n",
    "  accuracies.append(classifier.score(validation_data, validation_labels))\n",
    " \n",
    "print(k)\n",
    "\n",
    "k_list = range(1,101)\n",
    "\n",
    "plt.plot(k_list, accuracies)\n",
    "\n",
    "plt.xlabel(\"k\")\n",
    "plt.ylabel(\"Validation Accuracy\")\n",
    "plt.title(\"Breast Cancer Classifier Accuracy\")\n",
    "\n",
    "plt.show()\n"
   ]
  }
 ],
 "metadata": {
  "kernelspec": {
   "display_name": "Python 3",
   "language": "python",
   "name": "python3"
  },
  "language_info": {
   "codemirror_mode": {
    "name": "ipython",
    "version": 3
   },
   "file_extension": ".py",
   "mimetype": "text/x-python",
   "name": "python",
   "nbconvert_exporter": "python",
   "pygments_lexer": "ipython3",
   "version": "3.7.3"
  }
 },
 "nbformat": 4,
 "nbformat_minor": 2
}
